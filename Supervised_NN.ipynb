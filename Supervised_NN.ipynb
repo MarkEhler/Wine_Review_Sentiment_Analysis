{
 "cells": [
  {
   "cell_type": "markdown",
   "metadata": {},
   "source": [
    "\n",
    "Final Project Submission\n",
    "\n",
    "Student name: Mark Ehler\n",
    "Student pace: part time\n",
    "Scheduled project review date/time: -- --  2019 -- MDT US\n",
    "Instructor name: Jeff Herman\n",
    "Blog post URL:"
   ]
  },
  {
   "cell_type": "markdown",
   "metadata": {},
   "source": [
    "<h1> Sentiment Analysis with Wine Reviews <\\h1>"
   ]
  },
  {
   "cell_type": "markdown",
   "metadata": {},
   "source": [
    "This module uses the <a href=\" https://www.kaggle.com/zynicide/wine-reviewsdata \">Wine Reviews </a> dataset availible on Kaggle to determine sentiment analysis of the wine after reading only a short review.  The goal being to deveolop an RNN that can organize text data. Results will be ran against a straight-forward logistic regression model test the strength of the sentiment analysis model.\n",
    "\n",
    "This module will include:\n",
    "<ul><li> Data Cleaning </li>\n",
    "    <li> Visuals </li>\n",
    "    <li> Preprocessing - Tokenization of Text Data </li>\n",
    "    <li> Log Reg Model </li>\n",
    "    <li> RNN for sentiment analysis\n",
    "    </li>\n",
    "</ul>"
   ]
  },
  {
   "cell_type": "markdown",
   "metadata": {},
   "source": [
    "<h4> Import Libraries to be Used <\\h4>"
   ]
  },
  {
   "cell_type": "code",
   "execution_count": 1,
   "metadata": {},
   "outputs": [],
   "source": [
    "import pandas as pd\n",
    "import matplotlib.pyplot as plt\n",
    "import numpy as np\n",
    "import os"
   ]
  },
  {
   "cell_type": "markdown",
   "metadata": {},
   "source": [
    "<h3> Cleaning and Viewing the Data </h3>\n",
    "    \n",
    "Two datasets with slightly differnent columns.  Let's merge\n",
    "\n"
   ]
  },
  {
   "cell_type": "code",
   "execution_count": 81,
   "metadata": {},
   "outputs": [
    {
     "data": {
      "text/html": [
       "<div>\n",
       "<style scoped>\n",
       "    .dataframe tbody tr th:only-of-type {\n",
       "        vertical-align: middle;\n",
       "    }\n",
       "\n",
       "    .dataframe tbody tr th {\n",
       "        vertical-align: top;\n",
       "    }\n",
       "\n",
       "    .dataframe thead th {\n",
       "        text-align: right;\n",
       "    }\n",
       "</style>\n",
       "<table border=\"1\" class=\"dataframe\">\n",
       "  <thead>\n",
       "    <tr style=\"text-align: right;\">\n",
       "      <th></th>\n",
       "      <th>Unnamed: 0</th>\n",
       "      <th>country</th>\n",
       "      <th>description</th>\n",
       "      <th>designation</th>\n",
       "      <th>points</th>\n",
       "      <th>price</th>\n",
       "      <th>province</th>\n",
       "      <th>region_1</th>\n",
       "      <th>region_2</th>\n",
       "      <th>taster_name</th>\n",
       "      <th>taster_twitter_handle</th>\n",
       "      <th>title</th>\n",
       "      <th>variety</th>\n",
       "      <th>winery</th>\n",
       "    </tr>\n",
       "  </thead>\n",
       "  <tbody>\n",
       "    <tr>\n",
       "      <th>0</th>\n",
       "      <td>0</td>\n",
       "      <td>Italy</td>\n",
       "      <td>Aromas include tropical fruit, broom, brimston...</td>\n",
       "      <td>Vulkà Bianco</td>\n",
       "      <td>87</td>\n",
       "      <td>NaN</td>\n",
       "      <td>Sicily &amp; Sardinia</td>\n",
       "      <td>Etna</td>\n",
       "      <td>NaN</td>\n",
       "      <td>Kerin O’Keefe</td>\n",
       "      <td>@kerinokeefe</td>\n",
       "      <td>Nicosia 2013 Vulkà Bianco  (Etna)</td>\n",
       "      <td>White Blend</td>\n",
       "      <td>Nicosia</td>\n",
       "    </tr>\n",
       "    <tr>\n",
       "      <th>1</th>\n",
       "      <td>1</td>\n",
       "      <td>Portugal</td>\n",
       "      <td>This is ripe and fruity, a wine that is smooth...</td>\n",
       "      <td>Avidagos</td>\n",
       "      <td>87</td>\n",
       "      <td>15.0</td>\n",
       "      <td>Douro</td>\n",
       "      <td>NaN</td>\n",
       "      <td>NaN</td>\n",
       "      <td>Roger Voss</td>\n",
       "      <td>@vossroger</td>\n",
       "      <td>Quinta dos Avidagos 2011 Avidagos Red (Douro)</td>\n",
       "      <td>Portuguese Red</td>\n",
       "      <td>Quinta dos Avidagos</td>\n",
       "    </tr>\n",
       "    <tr>\n",
       "      <th>2</th>\n",
       "      <td>2</td>\n",
       "      <td>US</td>\n",
       "      <td>Tart and snappy, the flavors of lime flesh and...</td>\n",
       "      <td>NaN</td>\n",
       "      <td>87</td>\n",
       "      <td>14.0</td>\n",
       "      <td>Oregon</td>\n",
       "      <td>Willamette Valley</td>\n",
       "      <td>Willamette Valley</td>\n",
       "      <td>Paul Gregutt</td>\n",
       "      <td>@paulgwine</td>\n",
       "      <td>Rainstorm 2013 Pinot Gris (Willamette Valley)</td>\n",
       "      <td>Pinot Gris</td>\n",
       "      <td>Rainstorm</td>\n",
       "    </tr>\n",
       "  </tbody>\n",
       "</table>\n",
       "</div>"
      ],
      "text/plain": [
       "   Unnamed: 0   country                                        description  \\\n",
       "0           0     Italy  Aromas include tropical fruit, broom, brimston...   \n",
       "1           1  Portugal  This is ripe and fruity, a wine that is smooth...   \n",
       "2           2        US  Tart and snappy, the flavors of lime flesh and...   \n",
       "\n",
       "    designation  points  price           province           region_1  \\\n",
       "0  Vulkà Bianco      87    NaN  Sicily & Sardinia               Etna   \n",
       "1      Avidagos      87   15.0              Douro                NaN   \n",
       "2           NaN      87   14.0             Oregon  Willamette Valley   \n",
       "\n",
       "            region_2    taster_name taster_twitter_handle  \\\n",
       "0                NaN  Kerin O’Keefe          @kerinokeefe   \n",
       "1                NaN     Roger Voss            @vossroger   \n",
       "2  Willamette Valley   Paul Gregutt           @paulgwine    \n",
       "\n",
       "                                           title         variety  \\\n",
       "0              Nicosia 2013 Vulkà Bianco  (Etna)     White Blend   \n",
       "1  Quinta dos Avidagos 2011 Avidagos Red (Douro)  Portuguese Red   \n",
       "2  Rainstorm 2013 Pinot Gris (Willamette Valley)      Pinot Gris   \n",
       "\n",
       "                winery  \n",
       "0              Nicosia  \n",
       "1  Quinta dos Avidagos  \n",
       "2            Rainstorm  "
      ]
     },
     "execution_count": 81,
     "metadata": {},
     "output_type": "execute_result"
    }
   ],
   "source": [
    "df = pd.read_csv('winemag-data-130k-v2.csv')\n",
    "df.head(3)"
   ]
  },
  {
   "cell_type": "code",
   "execution_count": 3,
   "metadata": {},
   "outputs": [
    {
     "data": {
      "text/html": [
       "<div>\n",
       "<style scoped>\n",
       "    .dataframe tbody tr th:only-of-type {\n",
       "        vertical-align: middle;\n",
       "    }\n",
       "\n",
       "    .dataframe tbody tr th {\n",
       "        vertical-align: top;\n",
       "    }\n",
       "\n",
       "    .dataframe thead th {\n",
       "        text-align: right;\n",
       "    }\n",
       "</style>\n",
       "<table border=\"1\" class=\"dataframe\">\n",
       "  <thead>\n",
       "    <tr style=\"text-align: right;\">\n",
       "      <th></th>\n",
       "      <th>Unnamed: 0</th>\n",
       "      <th>country</th>\n",
       "      <th>description</th>\n",
       "      <th>designation</th>\n",
       "      <th>points</th>\n",
       "      <th>price</th>\n",
       "      <th>province</th>\n",
       "      <th>region_1</th>\n",
       "      <th>region_2</th>\n",
       "      <th>variety</th>\n",
       "      <th>winery</th>\n",
       "    </tr>\n",
       "  </thead>\n",
       "  <tbody>\n",
       "    <tr>\n",
       "      <th>0</th>\n",
       "      <td>0</td>\n",
       "      <td>US</td>\n",
       "      <td>This tremendous 100% varietal wine hails from ...</td>\n",
       "      <td>Martha's Vineyard</td>\n",
       "      <td>96</td>\n",
       "      <td>235.0</td>\n",
       "      <td>California</td>\n",
       "      <td>Napa Valley</td>\n",
       "      <td>Napa</td>\n",
       "      <td>Cabernet Sauvignon</td>\n",
       "      <td>Heitz</td>\n",
       "    </tr>\n",
       "    <tr>\n",
       "      <th>1</th>\n",
       "      <td>1</td>\n",
       "      <td>Spain</td>\n",
       "      <td>Ripe aromas of fig, blackberry and cassis are ...</td>\n",
       "      <td>Carodorum Selección Especial Reserva</td>\n",
       "      <td>96</td>\n",
       "      <td>110.0</td>\n",
       "      <td>Northern Spain</td>\n",
       "      <td>Toro</td>\n",
       "      <td>NaN</td>\n",
       "      <td>Tinta de Toro</td>\n",
       "      <td>Bodega Carmen Rodríguez</td>\n",
       "    </tr>\n",
       "    <tr>\n",
       "      <th>2</th>\n",
       "      <td>2</td>\n",
       "      <td>US</td>\n",
       "      <td>Mac Watson honors the memory of a wine once ma...</td>\n",
       "      <td>Special Selected Late Harvest</td>\n",
       "      <td>96</td>\n",
       "      <td>90.0</td>\n",
       "      <td>California</td>\n",
       "      <td>Knights Valley</td>\n",
       "      <td>Sonoma</td>\n",
       "      <td>Sauvignon Blanc</td>\n",
       "      <td>Macauley</td>\n",
       "    </tr>\n",
       "  </tbody>\n",
       "</table>\n",
       "</div>"
      ],
      "text/plain": [
       "   Unnamed: 0 country                                        description  \\\n",
       "0           0      US  This tremendous 100% varietal wine hails from ...   \n",
       "1           1   Spain  Ripe aromas of fig, blackberry and cassis are ...   \n",
       "2           2      US  Mac Watson honors the memory of a wine once ma...   \n",
       "\n",
       "                            designation  points  price        province  \\\n",
       "0                     Martha's Vineyard      96  235.0      California   \n",
       "1  Carodorum Selección Especial Reserva      96  110.0  Northern Spain   \n",
       "2         Special Selected Late Harvest      96   90.0      California   \n",
       "\n",
       "         region_1 region_2             variety                   winery  \n",
       "0     Napa Valley     Napa  Cabernet Sauvignon                    Heitz  \n",
       "1            Toro      NaN       Tinta de Toro  Bodega Carmen Rodríguez  \n",
       "2  Knights Valley   Sonoma     Sauvignon Blanc                 Macauley  "
      ]
     },
     "execution_count": 3,
     "metadata": {},
     "output_type": "execute_result"
    }
   ],
   "source": [
    "df2 = pd.read_csv('winemag-data_first150k.csv')\n",
    "df2.head(3)"
   ]
  },
  {
   "cell_type": "code",
   "execution_count": 4,
   "metadata": {},
   "outputs": [],
   "source": [
    "df3 = pd.concat([df, df2], axis=1)"
   ]
  },
  {
   "cell_type": "code",
   "execution_count": 5,
   "metadata": {},
   "outputs": [
    {
     "name": "stdout",
     "output_type": "stream",
     "text": [
      "(129971, 14) \n",
      "           Unnamed: 0         points          price\n",
      "count  129971.000000  129971.000000  120975.000000\n",
      "mean    64985.000000      88.447138      35.363389\n",
      "std     37519.540256       3.039730      41.022218\n",
      "min         0.000000      80.000000       4.000000\n",
      "25%     32492.500000      86.000000      17.000000\n",
      "50%     64985.000000      88.000000      25.000000\n",
      "75%     97477.500000      91.000000      42.000000\n",
      "max    129970.000000     100.000000    3300.000000\n"
     ]
    }
   ],
   "source": [
    "print(df.shape, \"\\n\", df.describe())"
   ]
  },
  {
   "cell_type": "code",
   "execution_count": 6,
   "metadata": {},
   "outputs": [],
   "source": [
    "df = df.drop(['Unnamed: 0'], axis=1)"
   ]
  },
  {
   "cell_type": "code",
   "execution_count": 7,
   "metadata": {},
   "outputs": [
    {
     "data": {
      "text/html": [
       "<div>\n",
       "<style scoped>\n",
       "    .dataframe tbody tr th:only-of-type {\n",
       "        vertical-align: middle;\n",
       "    }\n",
       "\n",
       "    .dataframe tbody tr th {\n",
       "        vertical-align: top;\n",
       "    }\n",
       "\n",
       "    .dataframe thead th {\n",
       "        text-align: right;\n",
       "    }\n",
       "</style>\n",
       "<table border=\"1\" class=\"dataframe\">\n",
       "  <thead>\n",
       "    <tr style=\"text-align: right;\">\n",
       "      <th></th>\n",
       "      <th>country</th>\n",
       "      <th>description</th>\n",
       "      <th>designation</th>\n",
       "      <th>points</th>\n",
       "      <th>price</th>\n",
       "      <th>province</th>\n",
       "      <th>region_1</th>\n",
       "      <th>region_2</th>\n",
       "      <th>taster_name</th>\n",
       "      <th>taster_twitter_handle</th>\n",
       "      <th>title</th>\n",
       "      <th>variety</th>\n",
       "      <th>winery</th>\n",
       "    </tr>\n",
       "  </thead>\n",
       "  <tbody>\n",
       "    <tr>\n",
       "      <th>67614</th>\n",
       "      <td>US</td>\n",
       "      <td>100% Malbec, it's redolent with dark plums, wi...</td>\n",
       "      <td>NaN</td>\n",
       "      <td>87</td>\n",
       "      <td>20.0</td>\n",
       "      <td>Washington</td>\n",
       "      <td>Rattlesnake Hills</td>\n",
       "      <td>Columbia Valley</td>\n",
       "      <td>Sean P. Sullivan</td>\n",
       "      <td>@wawinereport</td>\n",
       "      <td>Roza Ridge 2010 Malbec (Rattlesnake Hills)</td>\n",
       "      <td>Malbec</td>\n",
       "      <td>Roza Ridge</td>\n",
       "    </tr>\n",
       "    <tr>\n",
       "      <th>46540</th>\n",
       "      <td>US</td>\n",
       "      <td>100% Malbec, it's redolent with dark plums, wi...</td>\n",
       "      <td>NaN</td>\n",
       "      <td>87</td>\n",
       "      <td>20.0</td>\n",
       "      <td>Washington</td>\n",
       "      <td>Rattlesnake Hills</td>\n",
       "      <td>Columbia Valley</td>\n",
       "      <td>Sean P. Sullivan</td>\n",
       "      <td>@wawinereport</td>\n",
       "      <td>Roza Ridge 2010 Malbec (Rattlesnake Hills)</td>\n",
       "      <td>Malbec</td>\n",
       "      <td>Roza Ridge</td>\n",
       "    </tr>\n",
       "    <tr>\n",
       "      <th>119702</th>\n",
       "      <td>US</td>\n",
       "      <td>100% Sangiovese, this pale pink wine has notes...</td>\n",
       "      <td>Meadow</td>\n",
       "      <td>88</td>\n",
       "      <td>18.0</td>\n",
       "      <td>Washington</td>\n",
       "      <td>Columbia Valley (WA)</td>\n",
       "      <td>Columbia Valley</td>\n",
       "      <td>Sean P. Sullivan</td>\n",
       "      <td>@wawinereport</td>\n",
       "      <td>Ross Andrew 2013 Meadow Rosé (Columbia Valley ...</td>\n",
       "      <td>Rosé</td>\n",
       "      <td>Ross Andrew</td>\n",
       "    </tr>\n",
       "  </tbody>\n",
       "</table>\n",
       "</div>"
      ],
      "text/plain": [
       "       country                                        description designation  \\\n",
       "67614       US  100% Malbec, it's redolent with dark plums, wi...         NaN   \n",
       "46540       US  100% Malbec, it's redolent with dark plums, wi...         NaN   \n",
       "119702      US  100% Sangiovese, this pale pink wine has notes...      Meadow   \n",
       "\n",
       "        points  price    province              region_1         region_2  \\\n",
       "67614       87   20.0  Washington     Rattlesnake Hills  Columbia Valley   \n",
       "46540       87   20.0  Washington     Rattlesnake Hills  Columbia Valley   \n",
       "119702      88   18.0  Washington  Columbia Valley (WA)  Columbia Valley   \n",
       "\n",
       "             taster_name taster_twitter_handle  \\\n",
       "67614   Sean P. Sullivan         @wawinereport   \n",
       "46540   Sean P. Sullivan         @wawinereport   \n",
       "119702  Sean P. Sullivan         @wawinereport   \n",
       "\n",
       "                                                    title variety       winery  \n",
       "67614          Roza Ridge 2010 Malbec (Rattlesnake Hills)  Malbec   Roza Ridge  \n",
       "46540          Roza Ridge 2010 Malbec (Rattlesnake Hills)  Malbec   Roza Ridge  \n",
       "119702  Ross Andrew 2013 Meadow Rosé (Columbia Valley ...    Rosé  Ross Andrew  "
      ]
     },
     "execution_count": 7,
     "metadata": {},
     "output_type": "execute_result"
    }
   ],
   "source": [
    "# We're intersted mainly in the 'points' and the 'description' columns.\n",
    "\n",
    "df[df.duplicated('description',keep=False)].sort_values('description').head(3)"
   ]
  },
  {
   "cell_type": "code",
   "execution_count": 8,
   "metadata": {},
   "outputs": [
    {
     "data": {
      "text/plain": [
       "country                     59\n",
       "description                  0\n",
       "designation              34532\n",
       "points                       0\n",
       "price                     8388\n",
       "province                    59\n",
       "region_1                 19558\n",
       "region_2                 73195\n",
       "taster_name              24912\n",
       "taster_twitter_handle    29441\n",
       "title                        0\n",
       "variety                      1\n",
       "winery                       0\n",
       "dtype: int64"
      ]
     },
     "execution_count": 8,
     "metadata": {},
     "output_type": "execute_result"
    }
   ],
   "source": [
    "df3 = df.drop_duplicates('description')\n",
    "df3.isna().sum()"
   ]
  },
  {
   "cell_type": "code",
   "execution_count": 9,
   "metadata": {},
   "outputs": [
    {
     "name": "stdout",
     "output_type": "stream",
     "text": [
      "(119955, 13) (129971, 13)\n"
     ]
    }
   ],
   "source": [
    "print(df3.shape, df.shape)"
   ]
  },
  {
   "cell_type": "code",
   "execution_count": 10,
   "metadata": {},
   "outputs": [],
   "source": [
    "# the shape of df3 and df are the same after cleaning duplicate descriptions."
   ]
  },
  {
   "cell_type": "code",
   "execution_count": 11,
   "metadata": {},
   "outputs": [
    {
     "data": {
      "text/plain": [
       "country                     63\n",
       "description                  0\n",
       "designation              37465\n",
       "points                       0\n",
       "price                     8996\n",
       "province                    63\n",
       "region_1                 21247\n",
       "region_2                 79460\n",
       "taster_name              26244\n",
       "taster_twitter_handle    31213\n",
       "title                        0\n",
       "variety                      1\n",
       "winery                       0\n",
       "dtype: int64"
      ]
     },
     "execution_count": 11,
     "metadata": {},
     "output_type": "execute_result"
    }
   ],
   "source": [
    "data = df\n",
    "data.isna().sum()"
   ]
  },
  {
   "cell_type": "code",
   "execution_count": 12,
   "metadata": {},
   "outputs": [],
   "source": [
    "# region 2 seems mostly invalid\n",
    "# taster name while a large nan could be very valueable information for prose/style of description\n",
    "# price should be average filled\n",
    "# twitter handle will have a large coorelation with taster_name and should be dropped"
   ]
  },
  {
   "cell_type": "code",
   "execution_count": 13,
   "metadata": {},
   "outputs": [
    {
     "data": {
      "text/plain": [
       "country           63\n",
       "description        0\n",
       "designation    37465\n",
       "points             0\n",
       "price           8996\n",
       "province          63\n",
       "region_1       21247\n",
       "taster_name    26244\n",
       "title              0\n",
       "variety            1\n",
       "winery             0\n",
       "dtype: int64"
      ]
     },
     "execution_count": 13,
     "metadata": {},
     "output_type": "execute_result"
    }
   ],
   "source": [
    "data_cleaned = data.drop(['taster_twitter_handle', 'region_2'], axis=1)\n",
    "data_cleaned.isna().sum()"
   ]
  },
  {
   "cell_type": "code",
   "execution_count": 14,
   "metadata": {},
   "outputs": [
    {
     "name": "stderr",
     "output_type": "stream",
     "text": [
      "C:\\Users\\Mark\\AppData\\Local\\Continuum\\anaconda3\\lib\\site-packages\\numpy\\lib\\histograms.py:824: RuntimeWarning: invalid value encountered in greater_equal\n",
      "  keep = (tmp_a >= first_edge)\n",
      "C:\\Users\\Mark\\AppData\\Local\\Continuum\\anaconda3\\lib\\site-packages\\numpy\\lib\\histograms.py:825: RuntimeWarning: invalid value encountered in less_equal\n",
      "  keep &= (tmp_a <= last_edge)\n"
     ]
    },
    {
     "data": {
      "image/png": "[encoded data removed]",
      "text/plain": [
       "<Figure size 432x288 with 1 Axes>"
      ]
     },
     "metadata": {
      "needs_background": "light"
     },
     "output_type": "display_data"
    }
   ],
   "source": [
    "data_cleaned['taster_name'].fillna(\"other taster\", inplace=True)\n",
    "plt.hist(data_cleaned.price, bins=50)\n",
    "plt.show();"
   ]
  },
  {
   "cell_type": "code",
   "execution_count": 15,
   "metadata": {},
   "outputs": [
    {
     "data": {
      "text/plain": [
       "3300.0"
      ]
     },
     "execution_count": 15,
     "metadata": {},
     "output_type": "execute_result"
    }
   ],
   "source": [
    "data_cleaned.price.max()"
   ]
  },
  {
   "cell_type": "code",
   "execution_count": 16,
   "metadata": {},
   "outputs": [
    {
     "name": "stdout",
     "output_type": "stream",
     "text": [
      "0    20.0\n",
      "dtype: float64 \n",
      " 25.0 \n",
      " 35.363389129985535\n"
     ]
    }
   ],
   "source": [
    "print(data_cleaned.price.mode(), '\\n', data_cleaned.price.median(), '\\n', data_cleaned.price.mean())"
   ]
  },
  {
   "cell_type": "code",
   "execution_count": 17,
   "metadata": {},
   "outputs": [],
   "source": [
    "data_cleaned['price'].fillna(25., inplace=True)"
   ]
  },
  {
   "cell_type": "code",
   "execution_count": 18,
   "metadata": {},
   "outputs": [
    {
     "data": {
      "text/plain": [
       "country           63\n",
       "description        0\n",
       "designation    37465\n",
       "points             0\n",
       "price              0\n",
       "province          63\n",
       "region_1       21247\n",
       "taster_name        0\n",
       "title              0\n",
       "variety            1\n",
       "winery             0\n",
       "dtype: int64"
      ]
     },
     "execution_count": 18,
     "metadata": {},
     "output_type": "execute_result"
    }
   ],
   "source": [
    "data_cleaned.isna().sum()"
   ]
  },
  {
   "cell_type": "code",
   "execution_count": 19,
   "metadata": {},
   "outputs": [],
   "source": [
    "# I'd like to keep region around.  Lets fill a token for 'unknown'"
   ]
  },
  {
   "cell_type": "code",
   "execution_count": 20,
   "metadata": {},
   "outputs": [
    {
     "data": {
      "text/plain": [
       "country        0\n",
       "description    0\n",
       "designation    0\n",
       "points         0\n",
       "price          0\n",
       "province       0\n",
       "region_1       0\n",
       "taster_name    0\n",
       "title          0\n",
       "variety        0\n",
       "winery         0\n",
       "dtype: int64"
      ]
     },
     "execution_count": 20,
     "metadata": {},
     "output_type": "execute_result"
    }
   ],
   "source": [
    "data_cleaned['region_1'].fillna('unknown', inplace=True)\n",
    "data_cleaned['designation'].fillna('unknown', inplace=True)\n",
    "data_cleaned.dropna(axis=0, inplace=True)\n",
    "data_cleaned.isna().sum()"
   ]
  },
  {
   "cell_type": "code",
   "execution_count": 21,
   "metadata": {},
   "outputs": [
    {
     "data": {
      "text/plain": [
       "(129907, 11)"
      ]
     },
     "execution_count": 21,
     "metadata": {},
     "output_type": "execute_result"
    }
   ],
   "source": [
    "data_cleaned.shape"
   ]
  },
  {
   "cell_type": "markdown",
   "metadata": {},
   "source": [
    "<h4> Domain Knowledge Transformations </h4>\n",
    "\n",
    "While perhaps not essential for our neural network.  It might help our logreg (or whatever supervised method we choose to use) to apply some knowledge of the industry.  We have a stunning number of values for 'variety' while some of this data are just translations of the same wine.  We can infer origin from other features so why not make our math a little easier and apply some transaltions to counterpart varieties?\n",
    "\n"
   ]
  },
  {
   "cell_type": "code",
   "execution_count": 22,
   "metadata": {},
   "outputs": [],
   "source": [
    "import unicodedata"
   ]
  },
  {
   "cell_type": "code",
   "execution_count": 23,
   "metadata": {},
   "outputs": [],
   "source": [
    "# Replace German names with English names for wines\n",
    "data_cleaned['variety'] = data_cleaned['variety'].replace(['weissburgunder'], 'chardonnay')\n",
    "data_cleaned['variety'] = data_cleaned['variety'].replace(['spatburgunder'], 'pinot noir')\n",
    "data_cleaned['variety'] = data_cleaned['variety'].replace(['grauburgunder'], 'pinot gris')\n",
    "\n",
    "# Replace the Spanish garnacha with the french grenache\n",
    "data_cleaned['variety'] = data_cleaned['variety'].replace(['garnacha'], 'grenache')\n",
    "\n",
    "# Replace the Italian pinot nero with the french pinot noir\n",
    "data_cleaned['variety'] = data_cleaned['variety'].replace(['pinot nero'], 'pinot noir')\n",
    "\n",
    "# Replace the Portugues alvarinho with the spanish albarino\n",
    "data_cleaned['variety'] = data_cleaned['variety'].replace(['alvarinho'], 'albarino')\n",
    "\n",
    "\n",
    "# Also, get rid of the umlauts and tildas to make variety names consistent.\n",
    "def removeaccents(inputstr):\n",
    "    nfkd_form = unicodedata.normalize('NFKD', inputstr)\n",
    "    return u\"\".join([c for c in nfkd_form if not unicodedata.combining(c)])\n",
    "\n",
    "data_cleaned['variety'] = data_cleaned['variety'].apply(removeaccents)\n",
    "data_cleaned['description'] = data_cleaned['description'].apply(removeaccents)"
   ]
  },
  {
   "cell_type": "code",
   "execution_count": null,
   "metadata": {},
   "outputs": [],
   "source": []
  },
  {
   "cell_type": "code",
   "execution_count": 24,
   "metadata": {},
   "outputs": [
    {
     "name": "stdout",
     "output_type": "stream",
     "text": [
      "701 total entries\n",
      "701 are strings\n",
      "one is a: None \n",
      "if 'None' all are strings\n"
     ]
    }
   ],
   "source": [
    "# I could see the use of looking for Nans in string object features.  no description could be a good sign that it was rushed to the press and not a priority for that issue\n",
    "# or, that the wine was too pitiful to even review!\n",
    "\n",
    "print(len(data_cleaned.variety.unique()), \"total entries\")\n",
    "variety_test = data_cleaned.variety.unique()\n",
    "strings = 0\n",
    "for i in variety_test:\n",
    "    if type(i) == str:\n",
    "        strings += 1\n",
    "    else:\n",
    "        pass\n",
    "print(f\"{strings} are strings\")\n",
    "\n",
    "saved = None\n",
    "for i in variety_test:\n",
    "    if type(i) != str:\n",
    "        saved = i\n",
    "    else:\n",
    "        pass\n",
    "print(f\"one is a: {saved} \\nif 'None' all are strings\" )"
   ]
  },
  {
   "cell_type": "code",
   "execution_count": 26,
   "metadata": {},
   "outputs": [
    {
     "data": {
      "text/html": [
       "<script type=\"text/javascript\">window.PlotlyConfig = {MathJaxConfig: 'local'};</script><script type=\"text/javascript\">if (window.MathJax) {MathJax.Hub.Config({SVG: {font: \"STIX-Web\"}});}</script><script>requirejs.config({paths: { 'plotly': ['https://cdn.plot.ly/plotly-latest.min']},});if(!window._Plotly) {require(['plotly'],function(plotly) {window._Plotly=plotly;});}</script>"
      ],
      "text/vnd.plotly.v1+html": [
       "<script type=\"text/javascript\">window.PlotlyConfig = {MathJaxConfig: 'local'};</script><script type=\"text/javascript\">if (window.MathJax) {MathJax.Hub.Config({SVG: {font: \"STIX-Web\"}});}</script><script>requirejs.config({paths: { 'plotly': ['https://cdn.plot.ly/plotly-latest.min']},});if(!window._Plotly) {require(['plotly'],function(plotly) {window._Plotly=plotly;});}</script>"
      ]
     },
     "metadata": {},
     "output_type": "display_data"
    },
    {
     "data": {
      "text/html": [
       "<script type=\"text/javascript\">window.PlotlyConfig = {MathJaxConfig: 'local'};</script><script type=\"text/javascript\">if (window.MathJax) {MathJax.Hub.Config({SVG: {font: \"STIX-Web\"}});}</script><script>requirejs.config({paths: { 'plotly': ['https://cdn.plot.ly/plotly-latest.min']},});if(!window._Plotly) {require(['plotly'],function(plotly) {window._Plotly=plotly;});}</script>"
      ],
      "text/vnd.plotly.v1+html": [
       "<script type=\"text/javascript\">window.PlotlyConfig = {MathJaxConfig: 'local'};</script><script type=\"text/javascript\">if (window.MathJax) {MathJax.Hub.Config({SVG: {font: \"STIX-Web\"}});}</script><script>requirejs.config({paths: { 'plotly': ['https://cdn.plot.ly/plotly-latest.min']},});if(!window._Plotly) {require(['plotly'],function(plotly) {window._Plotly=plotly;});}</script>"
      ]
     },
     "metadata": {},
     "output_type": "display_data"
    }
   ],
   "source": [
    "import seaborn as sns\n",
    "import plotly.graph_objs as go\n",
    "import plotly.plotly as py\n",
    "from plotly.offline import iplot, init_notebook_mode\n",
    "\n",
    "import cufflinks\n",
    "cufflinks.go_offline(connected=True)\n",
    "init_notebook_mode(connected=True)"
   ]
  },
  {
   "cell_type": "markdown",
   "metadata": {},
   "source": [
    "Since points will be our target it would be good to condense the ammount of outcomes.  We points ranging from 80-100 but don't really need all of them.  we could go bivarant and do either 'good' vs 'not-as-good' or maybe a 1-5 scale.  Some visualizations will help us see where best to draw these distinctions."
   ]
  },
  {
   "cell_type": "code",
   "execution_count": 27,
   "metadata": {},
   "outputs": [
    {
     "data": {
      "text/plain": [
       "<matplotlib.axes._subplots.AxesSubplot at 0x298aae977f0>"
      ]
     },
     "execution_count": 27,
     "metadata": {},
     "output_type": "execute_result"
    },
    {
     "data": {
      "image/png": "[encoded data removed]",
      "text/plain": [
       "<Figure size 432x288 with 1 Axes>"
      ]
     },
     "metadata": {
      "needs_background": "light"
     },
     "output_type": "display_data"
    }
   ],
   "source": [
    "sns.scatterplot(data_cleaned.points, data_cleaned.price)"
   ]
  },
  {
   "cell_type": "code",
   "execution_count": 28,
   "metadata": {},
   "outputs": [
    {
     "data": {
      "image/png": "[encoded data removed]",
      "text/plain": [
       "<Figure size 1440x360 with 1 Axes>"
      ]
     },
     "metadata": {
      "needs_background": "light"
     },
     "output_type": "display_data"
    }
   ],
   "source": [
    "# append value counts for each bin\n",
    "\n",
    "box_data = pd.DataFrame({col:vals['price'] for col,vals in data_cleaned.groupby('points')})\n",
    "meds2 = box_data.median()\n",
    "meds2.sort_values(ascending=False, inplace=True)\n",
    "\n",
    "fig, ax = plt.subplots(figsize = (20,5))\n",
    "chart = sns.barplot(x='points',y='price', data=data, order=meds2.index, ax = ax)\n",
    "plt.xticks(rotation = 90)\n",
    "plt.show()"
   ]
  },
  {
   "cell_type": "code",
   "execution_count": 29,
   "metadata": {},
   "outputs": [
    {
     "data": {
      "text/plain": [
       "80       397\n",
       "81       692\n",
       "82      1835\n",
       "83      3024\n",
       "84      6478\n",
       "85      9529\n",
       "86     12595\n",
       "87     16927\n",
       "88     17197\n",
       "89     12208\n",
       "90     15403\n",
       "91     11353\n",
       "92      9606\n",
       "93      6489\n",
       "94      3758\n",
       "95      1535\n",
       "96       523\n",
       "97       229\n",
       "98        77\n",
       "99        33\n",
       "100       19\n",
       "Name: points, dtype: int64"
      ]
     },
     "execution_count": 29,
     "metadata": {},
     "output_type": "execute_result"
    }
   ],
   "source": [
    "pts = data_cleaned.points\n",
    "pts.value_counts(sort=False)"
   ]
  },
  {
   "cell_type": "code",
   "execution_count": 30,
   "metadata": {},
   "outputs": [
    {
     "data": {
      "text/plain": [
       "<matplotlib.axes._subplots.AxesSubplot at 0x298aaf80da0>"
      ]
     },
     "execution_count": 30,
     "metadata": {},
     "output_type": "execute_result"
    },
    {
     "data": {
      "image/png": "[encoded data removed]",
      "text/plain": [
       "<Figure size 432x288 with 1 Axes>"
      ]
     },
     "metadata": {
      "needs_background": "light"
     },
     "output_type": "display_data"
    }
   ],
   "source": [
    "#  label the median, mean\n",
    "\n",
    "sns.distplot(data_cleaned.points)"
   ]
  },
  {
   "cell_type": "code",
   "execution_count": 31,
   "metadata": {},
   "outputs": [
    {
     "data": {
      "text/plain": [
       "3.0400775447466986"
      ]
     },
     "execution_count": 31,
     "metadata": {},
     "output_type": "execute_result"
    }
   ],
   "source": [
    "data_cleaned.points.std()"
   ]
  },
  {
   "cell_type": "code",
   "execution_count": 32,
   "metadata": {},
   "outputs": [
    {
     "name": "stdout",
     "output_type": "stream",
     "text": [
      "Median ~ Mode ~ Mean\n",
      " 88.0 ~ 0    88\n",
      "dtype: int64 ~ 88.44705058233967\n"
     ]
    }
   ],
   "source": [
    "print(\"Median ~ Mode ~ Mean\\n\", data_cleaned.points.median(),\n",
    "    \"~\", data_cleaned.points.mode(),\n",
    "    \"~\", data_cleaned.points.mean())"
   ]
  },
  {
   "cell_type": "code",
   "execution_count": 33,
   "metadata": {},
   "outputs": [],
   "source": [
    "# reestablish points across a 2 std spread with the median at 89\n",
    "# reestablish points across two outcomes; \"excellent\", \"less-excellent\"\n"
   ]
  },
  {
   "cell_type": "code",
   "execution_count": 34,
   "metadata": {},
   "outputs": [
    {
     "data": {
      "text/plain": [
       "'Soft, supple plum envelopes an oaky structure in this Cabernet, supported by 15% Merlot. Coffee and chocolate complete the picture, finishing strong at the end, resulting in a value-priced wine of attractive flavor and immediate accessibility.'"
      ]
     },
     "execution_count": 34,
     "metadata": {},
     "output_type": "execute_result"
    }
   ],
   "source": [
    "data_cleaned.description[10]"
   ]
  },
  {
   "cell_type": "code",
   "execution_count": 35,
   "metadata": {},
   "outputs": [
    {
     "name": "stdout",
     "output_type": "stream",
     "text": [
      "Red berry, cedar and light spice aromas lead the way on this dazzling red. The vibrant palate is loaded with finesse, delivering bright red currant, red raspberry, white pepper and chopped herb alongside bright acidity and firm, polished tannins. Impeccably balanced, it's loaded with elegance, energy and intensity but it's still young, so give it time to fully develop. Drink 2020–2038. \n",
      " 388\n"
     ]
    }
   ],
   "source": [
    "high_end = data_cleaned[data_cleaned.points > 97]\n",
    "high_end = high_end.reset_index()\n",
    "print(high_end.description[15], \"\\n\", len(high_end.description[15]))"
   ]
  },
  {
   "cell_type": "code",
   "execution_count": 36,
   "metadata": {},
   "outputs": [
    {
     "data": {
      "text/plain": [
       "\"Earthy and very tight after aging 20 months in barrel and another two years in bottle prior to release, this wine's fruit is slipping away, leaving behind only a pruney sourness.\""
      ]
     },
     "execution_count": 36,
     "metadata": {},
     "output_type": "execute_result"
    }
   ],
   "source": [
    "low_end = data_cleaned[data_cleaned.points < 82]\n",
    "low_end = low_end.reset_index()\n",
    "low_end.description[10]"
   ]
  },
  {
   "cell_type": "code",
   "execution_count": 37,
   "metadata": {},
   "outputs": [
    {
     "data": {
      "text/plain": [
       "'This wine strikes a superb balance between herbaceous, green notes and ripe black fruit, all graced with a kiss of sweet vanilla. Rich blackberry and cassis flavors flood the palate, but then transition to sweet smoke and oak flavors on the finish.'"
      ]
     },
     "execution_count": 37,
     "metadata": {},
     "output_type": "execute_result"
    }
   ],
   "source": [
    "middle = data_cleaned[data_cleaned.points == 89]\n",
    "middle = middle.reset_index()\n",
    "middle.description[4]"
   ]
  },
  {
   "cell_type": "markdown",
   "metadata": {},
   "source": [
    "<h4> Sorting the points into bivariate outcomes </h4>"
   ]
  },
  {
   "cell_type": "code",
   "execution_count": 38,
   "metadata": {},
   "outputs": [],
   "source": [
    "points2 = data_cleaned.points"
   ]
  },
  {
   "cell_type": "code",
   "execution_count": 39,
   "metadata": {},
   "outputs": [
    {
     "data": {
      "text/plain": [
       "11489891"
      ]
     },
     "execution_count": 39,
     "metadata": {},
     "output_type": "execute_result"
    }
   ],
   "source": [
    "data_cleaned.points.sum()"
   ]
  },
  {
   "cell_type": "code",
   "execution_count": 40,
   "metadata": {},
   "outputs": [],
   "source": [
    "high_nums = []\n",
    "for i in range(90,101):\n",
    "    high_nums.append(i)\n",
    "low_nums = []\n",
    "for i in points2.unique():\n",
    "    if i != 1:\n",
    "        low_nums.append(i)\n"
   ]
  },
  {
   "cell_type": "code",
   "execution_count": 41,
   "metadata": {},
   "outputs": [
    {
     "data": {
      "text/plain": [
       "array([0, 1], dtype=int64)"
      ]
     },
     "execution_count": 41,
     "metadata": {},
     "output_type": "execute_result"
    }
   ],
   "source": [
    "points2.replace(high_nums, 1, inplace = True)\n",
    "points2.replace(low_nums, 0, inplace = True)\n",
    "points2.unique()"
   ]
  },
  {
   "cell_type": "code",
   "execution_count": 42,
   "metadata": {},
   "outputs": [
    {
     "data": {
      "text/plain": [
       "<matplotlib.axes._subplots.AxesSubplot at 0x298ab0a2b00>"
      ]
     },
     "execution_count": 42,
     "metadata": {},
     "output_type": "execute_result"
    },
    {
     "data": {
      "image/png": "[encoded data removed]",
      "text/plain": [
       "<Figure size 432x288 with 1 Axes>"
      ]
     },
     "metadata": {
      "needs_background": "light"
     },
     "output_type": "display_data"
    }
   ],
   "source": [
    "points2.sum()\n",
    "sns.distplot(points2)"
   ]
  },
  {
   "cell_type": "code",
   "execution_count": 43,
   "metadata": {},
   "outputs": [],
   "source": [
    "data_cleaned['points_bivariate'] = points2\n"
   ]
  },
  {
   "cell_type": "code",
   "execution_count": 44,
   "metadata": {},
   "outputs": [
    {
     "data": {
      "text/plain": [
       "Index(['country', 'description', 'designation', 'price', 'province',\n",
       "       'region_1', 'taster_name', 'title', 'variety', 'winery',\n",
       "       'points_bivariate'],\n",
       "      dtype='object')"
      ]
     },
     "execution_count": 44,
     "metadata": {},
     "output_type": "execute_result"
    }
   ],
   "source": [
    "data_final = data_cleaned.drop(['points'], axis=1)\n",
    "data_final.columns"
   ]
  },
  {
   "cell_type": "markdown",
   "metadata": {},
   "source": [
    "<h4> Preprocessing the Text and other transformations </h4>\n",
    "\n",
    "<ul><li> Segment text into words </li>\n",
    "    <li> Embedding (using data or a pretrained network) </li>\n",
    "    </ul>\n",
    "pretrained lexicon <a href= \"https://nlp.stanford.edu/projects/glove/\"> Here </a>"
   ]
  },
  {
   "cell_type": "code",
   "execution_count": 131,
   "metadata": {},
   "outputs": [],
   "source": [
    "from keras.preprocessing.text import Tokenizer\n",
    "from keras.preprocessing import sequence\n",
    "from sklearn.model_selection import train_test_split\n",
    "import sklearn.preprocessing as preprocessing"
   ]
  },
  {
   "cell_type": "code",
   "execution_count": 46,
   "metadata": {},
   "outputs": [
    {
     "name": "stdout",
     "output_type": "stream",
     "text": [
      "<class 'pandas.core.frame.DataFrame'>\n",
      "Int64Index: 129907 entries, 0 to 129970\n",
      "Data columns (total 11 columns):\n",
      "country             129907 non-null object\n",
      "description         129907 non-null object\n",
      "designation         129907 non-null object\n",
      "price               129907 non-null float64\n",
      "province            129907 non-null object\n",
      "region_1            129907 non-null object\n",
      "taster_name         129907 non-null object\n",
      "title               129907 non-null object\n",
      "variety             129907 non-null object\n",
      "winery              129907 non-null object\n",
      "points_bivariate    129907 non-null int64\n",
      "dtypes: float64(1), int64(1), object(9)\n",
      "memory usage: 16.9+ MB\n"
     ]
    }
   ],
   "source": [
    "data_final.info()"
   ]
  },
  {
   "cell_type": "code",
   "execution_count": 175,
   "metadata": {},
   "outputs": [],
   "source": [
    "y = data_final.points_bivariate\n",
    "X = data_final.drop(['points_bivariate'], axis=1)\n",
    "price = X.price\n",
    "X_ = X.drop(['price'], axis=1)"
   ]
  },
  {
   "cell_type": "code",
   "execution_count": 179,
   "metadata": {},
   "outputs": [],
   "source": [
    "X_ = X_.drop(['description'], axis=1)"
   ]
  },
  {
   "cell_type": "code",
   "execution_count": 181,
   "metadata": {},
   "outputs": [
    {
     "name": "stdout",
     "output_type": "stream",
     "text": [
      "(129907,) (129907, 8)\n",
      "[22 31 40 40 40]\n"
     ]
    },
    {
     "data": {
      "text/plain": [
       "0       Italy\n",
       "1    Portugal\n",
       "2          US\n",
       "3          US\n",
       "4          US\n",
       "Name: country, dtype: object"
      ]
     },
     "execution_count": 181,
     "metadata": {},
     "output_type": "execute_result"
    }
   ],
   "source": [
    "lb = preprocessing.LabelEncoder()\n",
    "X_enc = lb.fit_transform(X_.country)\n",
    "\n",
    "print(X_enc.shape, X_.shape)\n",
    "print(X_enc[:5])\n",
    "X_.country.head()"
   ]
  },
  {
   "cell_type": "code",
   "execution_count": 182,
   "metadata": {},
   "outputs": [],
   "source": [
    "features = X_.columns\n",
    "encoded_features = {}\n",
    "count = 0\n",
    "for i in range(0,len(features)):\n",
    "\n",
    "    lb = preprocessing.LabelEncoder()\n",
    "    feat_enc = lb.fit_transform(X_[features[i]])\n",
    "    key_value = features[i], feat_enc\n",
    "    encoded_features.update([key_value])"
   ]
  },
  {
   "cell_type": "code",
   "execution_count": 183,
   "metadata": {},
   "outputs": [
    {
     "data": {
      "text/plain": [
       "dict_keys(['country', 'designation', 'province', 'region_1', 'taster_name', 'title', 'variety', 'winery'])"
      ]
     },
     "execution_count": 183,
     "metadata": {},
     "output_type": "execute_result"
    }
   ],
   "source": [
    "encoded_features.keys()"
   ]
  },
  {
   "cell_type": "code",
   "execution_count": 83,
   "metadata": {},
   "outputs": [
    {
     "data": {
      "text/plain": [
       "701"
      ]
     },
     "execution_count": 83,
     "metadata": {},
     "output_type": "execute_result"
    }
   ],
   "source": [
    "# varieties = X_.variety\n",
    "# varieties = set(varieties)\n",
    "# len(varieties)\n",
    "# desc = X_.description\n",
    "# stop_words = list(stopwords.words('english')) \n",
    "# stop_words.append(varieties)\n",
    "\n",
    "# def enc_with_stop_words()\n",
    "#     split_dict = {}\n",
    "#     i = 0\n",
    "#     while i < desc.shape[0]:     \n",
    "#         word_tokens = word_tokenize(desc[0]) \n",
    "#         filtered_sentence = [w for w in word_tokens if not w in stop_words] \n",
    "#         split_dict.update({i: filtered_sentence})\n",
    "#         i += 1\n",
    "#         if i > 5:\n",
    "#             break"
   ]
  },
  {
   "cell_type": "code",
   "execution_count": 184,
   "metadata": {},
   "outputs": [
    {
     "name": "stdout",
     "output_type": "stream",
     "text": [
      "(129907, 1) <class 'numpy.ndarray'>\n"
     ]
    }
   ],
   "source": [
    "minmax = preprocessing.MinMaxScaler()\n",
    "price_minmax = minmax.fit_transform(np.array(price).reshape(-1, 1))\n",
    " \n",
    "print(price_minmax.shape, type(price_minmax))"
   ]
  },
  {
   "cell_type": "code",
   "execution_count": 185,
   "metadata": {},
   "outputs": [],
   "source": [
    "labeled_features = pd.DataFrame.from_dict(encoded_features)\n",
    "labeled_features.columns\n",
    "price_minmax = pd.DataFrame(price_minmax.reshape(-1), columns=['price'])"
   ]
  },
  {
   "cell_type": "code",
   "execution_count": 186,
   "metadata": {},
   "outputs": [
    {
     "data": {
      "text/html": [
       "<div>\n",
       "<style scoped>\n",
       "    .dataframe tbody tr th:only-of-type {\n",
       "        vertical-align: middle;\n",
       "    }\n",
       "\n",
       "    .dataframe tbody tr th {\n",
       "        vertical-align: top;\n",
       "    }\n",
       "\n",
       "    .dataframe thead th {\n",
       "        text-align: right;\n",
       "    }\n",
       "</style>\n",
       "<table border=\"1\" class=\"dataframe\">\n",
       "  <thead>\n",
       "    <tr style=\"text-align: right;\">\n",
       "      <th></th>\n",
       "      <th>country</th>\n",
       "      <th>designation</th>\n",
       "      <th>province</th>\n",
       "      <th>region_1</th>\n",
       "      <th>taster_name</th>\n",
       "      <th>title</th>\n",
       "      <th>variety</th>\n",
       "      <th>winery</th>\n",
       "      <th>price</th>\n",
       "    </tr>\n",
       "  </thead>\n",
       "  <tbody>\n",
       "    <tr>\n",
       "      <th>0</th>\n",
       "      <td>22</td>\n",
       "      <td>36781</td>\n",
       "      <td>331</td>\n",
       "      <td>424</td>\n",
       "      <td>9</td>\n",
       "      <td>79489</td>\n",
       "      <td>685</td>\n",
       "      <td>11602</td>\n",
       "      <td>0.006371</td>\n",
       "    </tr>\n",
       "    <tr>\n",
       "      <th>1</th>\n",
       "      <td>31</td>\n",
       "      <td>2322</td>\n",
       "      <td>108</td>\n",
       "      <td>1229</td>\n",
       "      <td>15</td>\n",
       "      <td>89326</td>\n",
       "      <td>448</td>\n",
       "      <td>12949</td>\n",
       "      <td>0.003337</td>\n",
       "    </tr>\n",
       "    <tr>\n",
       "      <th>2</th>\n",
       "      <td>40</td>\n",
       "      <td>37888</td>\n",
       "      <td>268</td>\n",
       "      <td>1217</td>\n",
       "      <td>14</td>\n",
       "      <td>89740</td>\n",
       "      <td>434</td>\n",
       "      <td>13011</td>\n",
       "      <td>0.003034</td>\n",
       "    </tr>\n",
       "    <tr>\n",
       "      <th>3</th>\n",
       "      <td>40</td>\n",
       "      <td>27954</td>\n",
       "      <td>218</td>\n",
       "      <td>549</td>\n",
       "      <td>0</td>\n",
       "      <td>100827</td>\n",
       "      <td>477</td>\n",
       "      <td>14380</td>\n",
       "      <td>0.002731</td>\n",
       "    </tr>\n",
       "    <tr>\n",
       "      <th>4</th>\n",
       "      <td>40</td>\n",
       "      <td>36441</td>\n",
       "      <td>268</td>\n",
       "      <td>1217</td>\n",
       "      <td>14</td>\n",
       "      <td>102755</td>\n",
       "      <td>438</td>\n",
       "      <td>14610</td>\n",
       "      <td>0.018507</td>\n",
       "    </tr>\n",
       "  </tbody>\n",
       "</table>\n",
       "</div>"
      ],
      "text/plain": [
       "   country  designation  province  region_1  taster_name   title  variety  \\\n",
       "0       22        36781       331       424            9   79489      685   \n",
       "1       31         2322       108      1229           15   89326      448   \n",
       "2       40        37888       268      1217           14   89740      434   \n",
       "3       40        27954       218       549            0  100827      477   \n",
       "4       40        36441       268      1217           14  102755      438   \n",
       "\n",
       "   winery     price  \n",
       "0   11602  0.006371  \n",
       "1   12949  0.003337  \n",
       "2   13011  0.003034  \n",
       "3   14380  0.002731  \n",
       "4   14610  0.018507  "
      ]
     },
     "execution_count": 186,
     "metadata": {},
     "output_type": "execute_result"
    }
   ],
   "source": [
    "nn_X = desc_t\n",
    "\n",
    "X = pd.concat([labeled_features, price_minmax], axis=1)\n",
    "X.head()"
   ]
  },
  {
   "cell_type": "code",
   "execution_count": 187,
   "metadata": {},
   "outputs": [
    {
     "data": {
      "text/plain": [
       "array([   0,    0,    0,    0,    0,    0,    0,    0,    0,    0,    0,\n",
       "          0,    0,    0,    0,    0,    0,   15,  864,  200,   13, 1972,\n",
       "       3590,    1,   88,  105,    2,   16,  898, 1018,  917,  306,   48,\n",
       "         61,    1,   88,  416,  141,  357,   18])"
      ]
     },
     "execution_count": 187,
     "metadata": {},
     "output_type": "execute_result"
    }
   ],
   "source": [
    "nn_X[0]"
   ]
  },
  {
   "cell_type": "code",
   "execution_count": 172,
   "metadata": {},
   "outputs": [
    {
     "name": "stdout",
     "output_type": "stream",
     "text": [
      "0    0\n",
      "1    0\n",
      "2    0\n",
      "3    0\n",
      "4    0\n",
      "Name: points_bivariate, dtype: int64\n"
     ]
    }
   ],
   "source": [
    "print(y[:5])"
   ]
  },
  {
   "cell_type": "code",
   "execution_count": 191,
   "metadata": {},
   "outputs": [],
   "source": [
    "x_tr, x_ts, y_tr, y_ts = train_test_split(X, y, test_size=0.35)"
   ]
  },
  {
   "cell_type": "code",
   "execution_count": 192,
   "metadata": {},
   "outputs": [],
   "source": [
    "from sklearn.tree import DecisionTreeClassifier \n",
    "from sklearn.metrics import accuracy_score, f1_score\n",
    "from sklearn import tree \n",
    "from sklearn.model_selection import GridSearchCV"
   ]
  },
  {
   "cell_type": "code",
   "execution_count": 193,
   "metadata": {},
   "outputs": [
    {
     "data": {
      "text/plain": [
       "{'criterion': 'gini', 'max_depth': 10, 'min_samples_split': 10}"
      ]
     },
     "execution_count": 193,
     "metadata": {},
     "output_type": "execute_result"
    }
   ],
   "source": [
    "param_grid = {\n",
    "    \"criterion\": [\"gini\", \"entropy\"],\n",
    "    \"max_depth\": [1, 2, 5, 10],\n",
    "    \"min_samples_split\": [1.0, 5, 10, 20]\n",
    "}\n",
    "treeclf = DecisionTreeClassifier(criterion='entropy')\n",
    "treeclf.fit(x_tr, y_tr)\n",
    "y_pred = treeclf.predict(x_ts)\n",
    "\n",
    "gs_tree = GridSearchCV(treeclf, param_grid, cv=4)\n",
    "gs_tree.fit(x_tr, y_tr)\n",
    "\n",
    "gs_tree.best_params_"
   ]
  },
  {
   "cell_type": "code",
   "execution_count": 194,
   "metadata": {},
   "outputs": [
    {
     "name": "stdout",
     "output_type": "stream",
     "text": [
      "Accuracy is : 75.165\n",
      "F1 Score : 0.6740749292847659\n"
     ]
    }
   ],
   "source": [
    "# Metrics\n",
    "acc = accuracy_score(y_ts, y_pred) * 100\n",
    "print(\"Accuracy is : {0}\".format(round(acc, 4)))\n",
    "f1 = f1_score(y_ts, y_pred)\n",
    "print(f'F1 Score : {f1}')"
   ]
  },
  {
   "cell_type": "markdown",
   "metadata": {},
   "source": [
    "<h4> Interpret Results </h4>\n",
    "\n",
    "The accuracy is better than a 50/50 guess. Enough so to warrent further tweaking on it's own.  The bar is set.\n",
    "\n",
    " make this into a table\n",
    "Common-Sense Baseline = 50%  <- run code to express in same terms.  using sample data and y, y_pred\n",
    "Decision Tree Accuracy = acc"
   ]
  },
  {
   "cell_type": "code",
   "execution_count": null,
   "metadata": {},
   "outputs": [],
   "source": []
  },
  {
   "cell_type": "markdown",
   "metadata": {},
   "source": [
    "<h2> Recurrent Neural Network for Sequential Data </h2>"
   ]
  },
  {
   "cell_type": "code",
   "execution_count": 199,
   "metadata": {},
   "outputs": [],
   "source": [
    "# how do I choose network sizes"
   ]
  },
  {
   "cell_type": "code",
   "execution_count": 195,
   "metadata": {},
   "outputs": [],
   "source": [
    "from keras.models import Sequential\n",
    "from keras.layers import Embedding, Flatten, Dense, Dropout, Activation, Bidirectional, GlobalMaxPool1D #different layers we might use"
   ]
  },
  {
   "cell_type": "code",
   "execution_count": 227,
   "metadata": {},
   "outputs": [],
   "source": [
    "# from Deep learning RNN Chapter\n",
    "maxlen = 40\n",
    "def keras_enc(samples, maxlen=maxlen):\n",
    "    tokenizer = Tokenizer(num_words=10000)\n",
    "    tokenizer.fit_on_texts(samples)\n",
    "\n",
    "    sample_sequences = tokenizer.texts_to_sequences(samples)\n",
    "    #9999 unique\n",
    "    # one_hot_description = tokenizer.texts_to_matrix(data_final.description, mode='binary')\n",
    "\n",
    "    word_index = tokenizer.word_index\n",
    "    print(f'found {len(word_index)} unique tokens')\n",
    "\n",
    "    samples_transformed = sequence.pad_sequences(sample_sequences, maxlen=maxlen)\n",
    "    total_vocabulary = set(word for desc in samples_transformed for word in desc)\n",
    "    print(\"There are {} unique tokens in our dataset.\".format(len(total_vocabulary)))\n",
    "    \n",
    "    return samples_transformed\n",
    "\n",
    "# def enc_by_hand(samples):\n",
    "#     samples = list(samples)\n",
    "#     token_index = {}\n",
    "#     for token in samples:\n",
    "#         for word in samples.split():\n",
    "#             if word not in token_index:\n",
    "#                 token_index[word] = len(token_index) + 1\n",
    "\n",
    "#     results = np.zeros(shape=(len(samples),\n",
    "#                             maxlen,\n",
    "#                             max(token_index.values()) + 1))\n",
    "    \n",
    "#     for i, samples in enumerate(samples):\n",
    "#         for j, word in list(enumerate(samples.split()))[:maxlen]:\n",
    "#             index = token_index.get(word)\n",
    "#             results[i, j, index] = 1"
   ]
  },
  {
   "cell_type": "code",
   "execution_count": 228,
   "metadata": {},
   "outputs": [
    {
     "name": "stdout",
     "output_type": "stream",
     "text": [
      "found 37269 unique tokens\n",
      "There are 9997 unique tokens in our dataset.\n"
     ]
    }
   ],
   "source": [
    "desc_t = keras_enc(data_final.description)"
   ]
  },
  {
   "cell_type": "code",
   "execution_count": 204,
   "metadata": {},
   "outputs": [
    {
     "data": {
      "text/plain": [
       "(129907, 40)"
      ]
     },
     "execution_count": 204,
     "metadata": {},
     "output_type": "execute_result"
    }
   ],
   "source": [
    "input_shape = desc_t.shape\n",
    "input_shape"
   ]
  },
  {
   "cell_type": "code",
   "execution_count": 200,
   "metadata": {},
   "outputs": [],
   "source": [
    "x_tr, x_ts, y_tr, y_ts = train_test_split(desc_t, y, test_size = .35)"
   ]
  },
  {
   "cell_type": "code",
   "execution_count": 215,
   "metadata": {},
   "outputs": [
    {
     "data": {
      "text/plain": [
       "\"lstm_model = Sequential()\\nlstm_model.add(Embedding(input_dim = input_shape, output_dim = 100))\\nlstm_model.add(LSTM(50, return_sequences=True))\\nlstm_model.add(GlobalMaxPool1D())\\nlstm_model.add(Dropout(0.5))\\nlstm_model.add(Dense(50, activation='relu'))\\nlstm_model.add(Dropout(0.5))\\nlstm_model.add(Dense(2, activation='softmax'))\\nlstm_model.summary()\""
      ]
     },
     "execution_count": 215,
     "metadata": {},
     "output_type": "execute_result"
    }
   ],
   "source": [
    "\"\"\"lstm_model = Sequential()\n",
    "lstm_model.add(Embedding(input_dim = input_shape, output_dim = 100))\n",
    "lstm_model.add(LSTM(50, return_sequences=True))\n",
    "lstm_model.add(GlobalMaxPool1D())\n",
    "lstm_model.add(Dropout(0.5))\n",
    "lstm_model.add(Dense(50, activation='relu'))\n",
    "lstm_model.add(Dropout(0.5))\n",
    "lstm_model.add(Dense(2, activation='softmax'))\n",
    "lstm_model.summary()\"\"\""
   ]
  },
  {
   "cell_type": "code",
   "execution_count": null,
   "metadata": {},
   "outputs": [],
   "source": [
    "model.compile(optimizer='rmsprop',\n",
    "             loss='binary_crossentropy',\n",
    "             metrics=['acc'])"
   ]
  },
  {
   "cell_type": "code",
   "execution_count": null,
   "metadata": {},
   "outputs": [],
   "source": [
    "checkpoints_path = 'weights_base.best.hdf5'\n",
    "checkpoint = ModelCheckpoint(checkpoints_path, monitor='val_loss', \n",
    "                             verbose=1, save_best_only=True, mode='min')\n",
    "early_stopping = EarlyStopping(monitor='val_loss', mode='min', patience=10)\n",
    "callbacks = [checkpoint, early_stopping]"
   ]
  },
  {
   "cell_type": "code",
   "execution_count": null,
   "metadata": {},
   "outputs": [],
   "source": [
    "history = model.fit(x_tr, y_tr, epochs=15, batch_size=400, \n",
    "                    validation_split=0.1, callbacks=callbacks)"
   ]
  },
  {
   "cell_type": "code",
   "execution_count": null,
   "metadata": {},
   "outputs": [],
   "source": [
    "def plot_results(hist):\n",
    "    acc = hist.history['acc']\n",
    "    val_acc = hist.history['val_acc']\n",
    "    loss = hist.history['loss']\n",
    "    val_los = hist.history['val_loss']\n",
    "    \n",
    "    epochs = range(1,len(acc) + 1)\n",
    "    \n",
    "    plt.plot(epochs, acc, 'bo', label='Training Accuracy')\n",
    "    plt.plot(epochs, val_acc, 'b', label = 'Validation Accuracy')\n",
    "    plt.title('Training and Validation Accuracy')\n",
    "    plt.legend(loc='best')\n",
    "    \n",
    "    plt.plot(epochs, loss, 'bo', label='Training Loss')\n",
    "    plt.plot(epochs, val_loss, 'b', label='Validation Loss')\n",
    "    plt.title('Training and Validation Loss')\n",
    "    plt.legend()\n",
    "    \n",
    "    plt.show();\n",
    "    \n",
    "plot_results(history)"
   ]
  },
  {
   "cell_type": "markdown",
   "metadata": {},
   "source": [
    "<h4> GloVe </h4>"
   ]
  },
  {
   "cell_type": "code",
   "execution_count": 224,
   "metadata": {},
   "outputs": [
    {
     "data": {
      "text/plain": [
       "9997"
      ]
     },
     "execution_count": 224,
     "metadata": {},
     "output_type": "execute_result"
    }
   ],
   "source": [
    "total_vocabulary = set(word for description in desc_t for word in description)\n",
    "\n",
    "len(total_vocabulary)"
   ]
  },
  {
   "cell_type": "code",
   "execution_count": 230,
   "metadata": {},
   "outputs": [
    {
     "ename": "SyntaxError",
     "evalue": "invalid syntax (<ipython-input-230-bd8a4c732468>, line 6)",
     "output_type": "error",
     "traceback": [
      "\u001b[1;36m  File \u001b[1;32m\"<ipython-input-230-bd8a4c732468>\"\u001b[1;36m, line \u001b[1;32m6\u001b[0m\n\u001b[1;33m    with open(os.path(glove_dir, 'rb') as f:\u001b[0m\n\u001b[1;37m                                        ^\u001b[0m\n\u001b[1;31mSyntaxError\u001b[0m\u001b[1;31m:\u001b[0m invalid syntax\n"
     ]
    }
   ],
   "source": [
    "\n",
    "glove_dir = 'Users\\Mark\\Documents\\DataSci\\glove_dir\\glove.840B.300d.txt'\n",
    "\n",
    "embeddings_index = {}\n",
    "\n",
    "with open(os.path(glove_dir, 'rb') as f:\n",
    "    for line in f:\n",
    "        values = line.split()\n",
    "        word = values[0].decode('utf-8')\n",
    "        if word in total_vocabulary:\n",
    "          vector = np.array(values[1:], dtype='float32')\n",
    "          embeddings_index[word]\n",
    "f.close()\n",
    "    \n",
    "print(f'Found {len(embeddings_index)} word vectors.')"
   ]
  },
  {
   "cell_type": "code",
   "execution_count": null,
   "metadata": {},
   "outputs": [],
   "source": [
    "glove = {}\n",
    "with open('glove.6B.50d.txt', 'rb') as f:\n",
    "    for line in f:\n",
    "        parts = line.split()\n",
    "        word = parts[0].decode('utf-8')\n",
    "        if word in total_vocabulary:\n",
    "            vector = np.array(parts[1:], dtype=np.float32)\n",
    "            glove[word] = vector"
   ]
  },
  {
   "cell_type": "code",
   "execution_count": null,
   "metadata": {},
   "outputs": [],
   "source": [
    "\n",
    "# parse glove\n",
    "# pretrained\n",
    "# plot results\n",
    "# simple RNN\n",
    "# plot results\n",
    "# RNN with LSTM/GRU"
   ]
  },
  {
   "cell_type": "code",
   "execution_count": null,
   "metadata": {},
   "outputs": [],
   "source": []
  },
  {
   "cell_type": "markdown",
   "metadata": {},
   "source": [
    "<h2> Summary </h2>"
   ]
  },
  {
   "cell_type": "markdown",
   "metadata": {},
   "source": [
    "Common Sense non-machine-learning baseline:\n",
    "Decision Tree accuracy:\n",
    "Best RNN accuracy:\n",
    "\n",
    "Advantaves of Decision Tree - \n",
    "Advantages of RNN - "
   ]
  },
  {
   "cell_type": "code",
   "execution_count": null,
   "metadata": {},
   "outputs": [],
   "source": []
  }
 ],
 "metadata": {
  "kernelspec": {
   "display_name": "Python 3",
   "language": "python",
   "name": "python3"
  },
  "language_info": {
   "codemirror_mode": {
    "name": "ipython",
    "version": 3
   },
   "file_extension": ".py",
   "mimetype": "text/x-python",
   "name": "python",
   "nbconvert_exporter": "python",
   "pygments_lexer": "ipython3",
   "version": "3.6.7"
  }
 },
 "nbformat": 4,
 "nbformat_minor": 2
}
